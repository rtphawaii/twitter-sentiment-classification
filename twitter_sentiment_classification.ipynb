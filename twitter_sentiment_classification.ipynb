{
  "nbformat": 4,
  "nbformat_minor": 0,
  "metadata": {
    "colab": {
      "provenance": [],
      "gpuType": "T4"
    },
    "kernelspec": {
      "name": "python3",
      "display_name": "Python 3"
    },
    "language_info": {
      "name": "python"
    },
    "accelerator": "GPU"
  },
  "cells": [
    {
      "cell_type": "markdown",
      "source": [
        "Twitter Sentiment Classification\n",
        "*   Below we load the packages needed and also the data from google drive\n",
        "*   Once we have loaded the data we do some basic EDA\n",
        "\n",
        "\n",
        "\n",
        "\n"
      ],
      "metadata": {
        "id": "2slnD7LnNXf6"
      }
    },
    {
      "cell_type": "code",
      "source": [
        "%%capture\n",
        "\n",
        "!pip install torch\n",
        "!pip install torchtext\n",
        "!pip install transformers   # for our application example in the end\n",
        "!pip install numpy\n",
        "\n",
        "#!pip install torchdata\n",
        "!pip install datasets\n",
        "\n",
        "!pip install -U sentence-transformers\n",
        "!pip install portalocker"
      ],
      "metadata": {
        "id": "9ePe2WuoNY_r"
      },
      "execution_count": null,
      "outputs": []
    },
    {
      "cell_type": "code",
      "source": [
        "import torch\n",
        "#torch.utils.data.datapipes.utils.common.DILL_AVAILABLE = torch.utils._import_utils.dill_available() #workaround\n",
        "from torch.utils.data import Dataset, DataLoader\n",
        "import numpy as np\n",
        "import matplotlib.pyplot as plt\n",
        "import pandas as pd\n",
        "from google.colab import drive\n",
        "import numpy as np\n",
        "import random\n",
        "\n",
        "from transformers import AutoTokenizer, GPT2Model, GPT2ForSequenceClassification\n",
        "\n",
        "from sklearn.preprocessing import LabelEncoder\n",
        "\n",
        "device = torch.device('cuda' if torch.cuda.is_available() else 'cpu')"
      ],
      "metadata": {
        "id": "4PfvQ7HBBj5P"
      },
      "execution_count": 37,
      "outputs": []
    },
    {
      "cell_type": "code",
      "source": [
        "# # Mount Google Drive\n",
        "drive.mount('/content/drive')\n",
        "\n",
        "# # Path to your file\n",
        "file_path = '/content/drive/My Drive/twitter_training.csv'\n",
        "\n",
        "file_path2 = '/content/drive/My Drive/twitter_validation.csv'\n",
        "column_names = ['id', 'entity', 'label', 'text']\n",
        "# # Load the data into a DataFrame\n",
        "df = pd.read_csv(file_path,header=None, names=column_names)\n",
        "\n",
        "df.head()\n",
        "\n",
        "# # Load the data into a DataFrame\n",
        "df2 = pd.read_csv(file_path2,header=None, names=column_names)\n",
        "\n",
        "df2.head()"
      ],
      "metadata": {
        "id": "Grad7q_BCHwv",
        "colab": {
          "base_uri": "https://localhost:8080/",
          "height": 224
        },
        "outputId": "1412618b-af05-4e42-9b6d-932d4d09a27a"
      },
      "execution_count": 38,
      "outputs": [
        {
          "output_type": "stream",
          "name": "stdout",
          "text": [
            "Drive already mounted at /content/drive; to attempt to forcibly remount, call drive.mount(\"/content/drive\", force_remount=True).\n"
          ]
        },
        {
          "output_type": "execute_result",
          "data": {
            "text/plain": [
              "     id     entity       label  \\\n",
              "0  3364   Facebook  Irrelevant   \n",
              "1   352     Amazon     Neutral   \n",
              "2  8312  Microsoft    Negative   \n",
              "3  4371      CS-GO    Negative   \n",
              "4  4433     Google     Neutral   \n",
              "\n",
              "                                                text  \n",
              "0  I mentioned on Facebook that I was struggling ...  \n",
              "1  BBC News - Amazon boss Jeff Bezos rejects clai...  \n",
              "2  @Microsoft Why do I pay for WORD when it funct...  \n",
              "3  CSGO matchmaking is so full of closet hacking,...  \n",
              "4  Now the President is slapping Americans in the...  "
            ],
            "text/html": [
              "\n",
              "  <div id=\"df-6eac49a1-f4df-41db-a63e-6a5fb5cd948e\" class=\"colab-df-container\">\n",
              "    <div>\n",
              "<style scoped>\n",
              "    .dataframe tbody tr th:only-of-type {\n",
              "        vertical-align: middle;\n",
              "    }\n",
              "\n",
              "    .dataframe tbody tr th {\n",
              "        vertical-align: top;\n",
              "    }\n",
              "\n",
              "    .dataframe thead th {\n",
              "        text-align: right;\n",
              "    }\n",
              "</style>\n",
              "<table border=\"1\" class=\"dataframe\">\n",
              "  <thead>\n",
              "    <tr style=\"text-align: right;\">\n",
              "      <th></th>\n",
              "      <th>id</th>\n",
              "      <th>entity</th>\n",
              "      <th>label</th>\n",
              "      <th>text</th>\n",
              "    </tr>\n",
              "  </thead>\n",
              "  <tbody>\n",
              "    <tr>\n",
              "      <th>0</th>\n",
              "      <td>3364</td>\n",
              "      <td>Facebook</td>\n",
              "      <td>Irrelevant</td>\n",
              "      <td>I mentioned on Facebook that I was struggling ...</td>\n",
              "    </tr>\n",
              "    <tr>\n",
              "      <th>1</th>\n",
              "      <td>352</td>\n",
              "      <td>Amazon</td>\n",
              "      <td>Neutral</td>\n",
              "      <td>BBC News - Amazon boss Jeff Bezos rejects clai...</td>\n",
              "    </tr>\n",
              "    <tr>\n",
              "      <th>2</th>\n",
              "      <td>8312</td>\n",
              "      <td>Microsoft</td>\n",
              "      <td>Negative</td>\n",
              "      <td>@Microsoft Why do I pay for WORD when it funct...</td>\n",
              "    </tr>\n",
              "    <tr>\n",
              "      <th>3</th>\n",
              "      <td>4371</td>\n",
              "      <td>CS-GO</td>\n",
              "      <td>Negative</td>\n",
              "      <td>CSGO matchmaking is so full of closet hacking,...</td>\n",
              "    </tr>\n",
              "    <tr>\n",
              "      <th>4</th>\n",
              "      <td>4433</td>\n",
              "      <td>Google</td>\n",
              "      <td>Neutral</td>\n",
              "      <td>Now the President is slapping Americans in the...</td>\n",
              "    </tr>\n",
              "  </tbody>\n",
              "</table>\n",
              "</div>\n",
              "    <div class=\"colab-df-buttons\">\n",
              "\n",
              "  <div class=\"colab-df-container\">\n",
              "    <button class=\"colab-df-convert\" onclick=\"convertToInteractive('df-6eac49a1-f4df-41db-a63e-6a5fb5cd948e')\"\n",
              "            title=\"Convert this dataframe to an interactive table.\"\n",
              "            style=\"display:none;\">\n",
              "\n",
              "  <svg xmlns=\"http://www.w3.org/2000/svg\" height=\"24px\" viewBox=\"0 -960 960 960\">\n",
              "    <path d=\"M120-120v-720h720v720H120Zm60-500h600v-160H180v160Zm220 220h160v-160H400v160Zm0 220h160v-160H400v160ZM180-400h160v-160H180v160Zm440 0h160v-160H620v160ZM180-180h160v-160H180v160Zm440 0h160v-160H620v160Z\"/>\n",
              "  </svg>\n",
              "    </button>\n",
              "\n",
              "  <style>\n",
              "    .colab-df-container {\n",
              "      display:flex;\n",
              "      gap: 12px;\n",
              "    }\n",
              "\n",
              "    .colab-df-convert {\n",
              "      background-color: #E8F0FE;\n",
              "      border: none;\n",
              "      border-radius: 50%;\n",
              "      cursor: pointer;\n",
              "      display: none;\n",
              "      fill: #1967D2;\n",
              "      height: 32px;\n",
              "      padding: 0 0 0 0;\n",
              "      width: 32px;\n",
              "    }\n",
              "\n",
              "    .colab-df-convert:hover {\n",
              "      background-color: #E2EBFA;\n",
              "      box-shadow: 0px 1px 2px rgba(60, 64, 67, 0.3), 0px 1px 3px 1px rgba(60, 64, 67, 0.15);\n",
              "      fill: #174EA6;\n",
              "    }\n",
              "\n",
              "    .colab-df-buttons div {\n",
              "      margin-bottom: 4px;\n",
              "    }\n",
              "\n",
              "    [theme=dark] .colab-df-convert {\n",
              "      background-color: #3B4455;\n",
              "      fill: #D2E3FC;\n",
              "    }\n",
              "\n",
              "    [theme=dark] .colab-df-convert:hover {\n",
              "      background-color: #434B5C;\n",
              "      box-shadow: 0px 1px 3px 1px rgba(0, 0, 0, 0.15);\n",
              "      filter: drop-shadow(0px 1px 2px rgba(0, 0, 0, 0.3));\n",
              "      fill: #FFFFFF;\n",
              "    }\n",
              "  </style>\n",
              "\n",
              "    <script>\n",
              "      const buttonEl =\n",
              "        document.querySelector('#df-6eac49a1-f4df-41db-a63e-6a5fb5cd948e button.colab-df-convert');\n",
              "      buttonEl.style.display =\n",
              "        google.colab.kernel.accessAllowed ? 'block' : 'none';\n",
              "\n",
              "      async function convertToInteractive(key) {\n",
              "        const element = document.querySelector('#df-6eac49a1-f4df-41db-a63e-6a5fb5cd948e');\n",
              "        const dataTable =\n",
              "          await google.colab.kernel.invokeFunction('convertToInteractive',\n",
              "                                                    [key], {});\n",
              "        if (!dataTable) return;\n",
              "\n",
              "        const docLinkHtml = 'Like what you see? Visit the ' +\n",
              "          '<a target=\"_blank\" href=https://colab.research.google.com/notebooks/data_table.ipynb>data table notebook</a>'\n",
              "          + ' to learn more about interactive tables.';\n",
              "        element.innerHTML = '';\n",
              "        dataTable['output_type'] = 'display_data';\n",
              "        await google.colab.output.renderOutput(dataTable, element);\n",
              "        const docLink = document.createElement('div');\n",
              "        docLink.innerHTML = docLinkHtml;\n",
              "        element.appendChild(docLink);\n",
              "      }\n",
              "    </script>\n",
              "  </div>\n",
              "\n",
              "\n",
              "<div id=\"df-7cb64687-66f8-4d8a-a4a0-ffe0a4f8218f\">\n",
              "  <button class=\"colab-df-quickchart\" onclick=\"quickchart('df-7cb64687-66f8-4d8a-a4a0-ffe0a4f8218f')\"\n",
              "            title=\"Suggest charts\"\n",
              "            style=\"display:none;\">\n",
              "\n",
              "<svg xmlns=\"http://www.w3.org/2000/svg\" height=\"24px\"viewBox=\"0 0 24 24\"\n",
              "     width=\"24px\">\n",
              "    <g>\n",
              "        <path d=\"M19 3H5c-1.1 0-2 .9-2 2v14c0 1.1.9 2 2 2h14c1.1 0 2-.9 2-2V5c0-1.1-.9-2-2-2zM9 17H7v-7h2v7zm4 0h-2V7h2v10zm4 0h-2v-4h2v4z\"/>\n",
              "    </g>\n",
              "</svg>\n",
              "  </button>\n",
              "\n",
              "<style>\n",
              "  .colab-df-quickchart {\n",
              "      --bg-color: #E8F0FE;\n",
              "      --fill-color: #1967D2;\n",
              "      --hover-bg-color: #E2EBFA;\n",
              "      --hover-fill-color: #174EA6;\n",
              "      --disabled-fill-color: #AAA;\n",
              "      --disabled-bg-color: #DDD;\n",
              "  }\n",
              "\n",
              "  [theme=dark] .colab-df-quickchart {\n",
              "      --bg-color: #3B4455;\n",
              "      --fill-color: #D2E3FC;\n",
              "      --hover-bg-color: #434B5C;\n",
              "      --hover-fill-color: #FFFFFF;\n",
              "      --disabled-bg-color: #3B4455;\n",
              "      --disabled-fill-color: #666;\n",
              "  }\n",
              "\n",
              "  .colab-df-quickchart {\n",
              "    background-color: var(--bg-color);\n",
              "    border: none;\n",
              "    border-radius: 50%;\n",
              "    cursor: pointer;\n",
              "    display: none;\n",
              "    fill: var(--fill-color);\n",
              "    height: 32px;\n",
              "    padding: 0;\n",
              "    width: 32px;\n",
              "  }\n",
              "\n",
              "  .colab-df-quickchart:hover {\n",
              "    background-color: var(--hover-bg-color);\n",
              "    box-shadow: 0 1px 2px rgba(60, 64, 67, 0.3), 0 1px 3px 1px rgba(60, 64, 67, 0.15);\n",
              "    fill: var(--button-hover-fill-color);\n",
              "  }\n",
              "\n",
              "  .colab-df-quickchart-complete:disabled,\n",
              "  .colab-df-quickchart-complete:disabled:hover {\n",
              "    background-color: var(--disabled-bg-color);\n",
              "    fill: var(--disabled-fill-color);\n",
              "    box-shadow: none;\n",
              "  }\n",
              "\n",
              "  .colab-df-spinner {\n",
              "    border: 2px solid var(--fill-color);\n",
              "    border-color: transparent;\n",
              "    border-bottom-color: var(--fill-color);\n",
              "    animation:\n",
              "      spin 1s steps(1) infinite;\n",
              "  }\n",
              "\n",
              "  @keyframes spin {\n",
              "    0% {\n",
              "      border-color: transparent;\n",
              "      border-bottom-color: var(--fill-color);\n",
              "      border-left-color: var(--fill-color);\n",
              "    }\n",
              "    20% {\n",
              "      border-color: transparent;\n",
              "      border-left-color: var(--fill-color);\n",
              "      border-top-color: var(--fill-color);\n",
              "    }\n",
              "    30% {\n",
              "      border-color: transparent;\n",
              "      border-left-color: var(--fill-color);\n",
              "      border-top-color: var(--fill-color);\n",
              "      border-right-color: var(--fill-color);\n",
              "    }\n",
              "    40% {\n",
              "      border-color: transparent;\n",
              "      border-right-color: var(--fill-color);\n",
              "      border-top-color: var(--fill-color);\n",
              "    }\n",
              "    60% {\n",
              "      border-color: transparent;\n",
              "      border-right-color: var(--fill-color);\n",
              "    }\n",
              "    80% {\n",
              "      border-color: transparent;\n",
              "      border-right-color: var(--fill-color);\n",
              "      border-bottom-color: var(--fill-color);\n",
              "    }\n",
              "    90% {\n",
              "      border-color: transparent;\n",
              "      border-bottom-color: var(--fill-color);\n",
              "    }\n",
              "  }\n",
              "</style>\n",
              "\n",
              "  <script>\n",
              "    async function quickchart(key) {\n",
              "      const quickchartButtonEl =\n",
              "        document.querySelector('#' + key + ' button');\n",
              "      quickchartButtonEl.disabled = true;  // To prevent multiple clicks.\n",
              "      quickchartButtonEl.classList.add('colab-df-spinner');\n",
              "      try {\n",
              "        const charts = await google.colab.kernel.invokeFunction(\n",
              "            'suggestCharts', [key], {});\n",
              "      } catch (error) {\n",
              "        console.error('Error during call to suggestCharts:', error);\n",
              "      }\n",
              "      quickchartButtonEl.classList.remove('colab-df-spinner');\n",
              "      quickchartButtonEl.classList.add('colab-df-quickchart-complete');\n",
              "    }\n",
              "    (() => {\n",
              "      let quickchartButtonEl =\n",
              "        document.querySelector('#df-7cb64687-66f8-4d8a-a4a0-ffe0a4f8218f button');\n",
              "      quickchartButtonEl.style.display =\n",
              "        google.colab.kernel.accessAllowed ? 'block' : 'none';\n",
              "    })();\n",
              "  </script>\n",
              "</div>\n",
              "\n",
              "    </div>\n",
              "  </div>\n"
            ],
            "application/vnd.google.colaboratory.intrinsic+json": {
              "type": "dataframe",
              "variable_name": "df2",
              "summary": "{\n  \"name\": \"df2\",\n  \"rows\": 1000,\n  \"fields\": [\n    {\n      \"column\": \"id\",\n      \"properties\": {\n        \"dtype\": \"number\",\n        \"std\": 3728,\n        \"min\": 6,\n        \"max\": 13197,\n        \"num_unique_values\": 1000,\n        \"samples\": [\n          11656,\n          9769,\n          7021\n        ],\n        \"semantic_type\": \"\",\n        \"description\": \"\"\n      }\n    },\n    {\n      \"column\": \"entity\",\n      \"properties\": {\n        \"dtype\": \"category\",\n        \"num_unique_values\": 32,\n        \"samples\": [\n          \"WorldOfCraft\",\n          \"RedDeadRedemption(RDR)\",\n          \"Xbox(Xseries)\"\n        ],\n        \"semantic_type\": \"\",\n        \"description\": \"\"\n      }\n    },\n    {\n      \"column\": \"label\",\n      \"properties\": {\n        \"dtype\": \"category\",\n        \"num_unique_values\": 4,\n        \"samples\": [\n          \"Neutral\",\n          \"Positive\",\n          \"Irrelevant\"\n        ],\n        \"semantic_type\": \"\",\n        \"description\": \"\"\n      }\n    },\n    {\n      \"column\": \"text\",\n      \"properties\": {\n        \"dtype\": \"string\",\n        \"num_unique_values\": 999,\n        \"samples\": [\n          \"Man this some GTA shit lol.\",\n          \"@Xbox @majornelson I\\u2019d love to bring home a new Xbox Series X, but they are all sold out. So the emails are VERY misleading. Just sayin.\",\n          \"This is dope! Puff is such a great kid.\"\n        ],\n        \"semantic_type\": \"\",\n        \"description\": \"\"\n      }\n    }\n  ]\n}"
            }
          },
          "metadata": {},
          "execution_count": 38
        }
      ]
    },
    {
      "cell_type": "code",
      "source": [
        "# Assuming your dataframe is named df\n",
        "plt.figure(figsize=(10, 6))\n",
        "df['label'].value_counts().plot(kind='bar')\n",
        "\n",
        "plt.title('Counts of Each Label')\n",
        "plt.xlabel('Labels')\n",
        "plt.ylabel('Counts')\n",
        "plt.xticks(rotation=45)\n",
        "plt.show()"
      ],
      "metadata": {
        "id": "jvtShZZGDYcw",
        "colab": {
          "base_uri": "https://localhost:8080/",
          "height": 607
        },
        "outputId": "f807666e-8aca-4879-ebbf-cef7e4408c7e"
      },
      "execution_count": 39,
      "outputs": [
        {
          "output_type": "display_data",
          "data": {
            "text/plain": [
              "<Figure size 1000x600 with 1 Axes>"
            ],
            "image/png": "[encoded data removed]"
          },
          "metadata": {}
        }
      ]
    },
    {
      "cell_type": "markdown",
      "source": [
        "Below we label encode the sentiments of the text to convert from negative, positive, neutral, irrelevant to 0,1,2,3"
      ],
      "metadata": {
        "id": "zGXePSp6Nrzi"
      }
    },
    {
      "cell_type": "code",
      "source": [
        "#label encode the sentiment column ('label')\n",
        "\n",
        "# Assuming your dataframe is named df and the column you want to encode is 'column_name'\n",
        "label_encoder = LabelEncoder()\n",
        "\n",
        "# Apply label encoding to the specified column\n",
        "df['label'] = label_encoder.fit_transform(df['label'])\n",
        "df2['label'] = label_encoder.fit_transform(df2['label'])\n",
        "\n",
        "# If you want to overwrite the original column, you can do this:\n",
        "# df['column_name'] = label_encoder.fit_transform(df['column_name'])\n",
        "\n",
        "# Show the first few rows to verify\n",
        "print(df.head())\n",
        "\n",
        "# Display the mapping of encoded values to original labels\n",
        "label_mapping = dict(zip(label_encoder.classes_, label_encoder.transform(label_encoder.classes_)))\n",
        "\n",
        "# Print the mapping\n",
        "print(\"Label Encoded Values and their Equivalents:\")\n",
        "for original_label, encoded_label in label_mapping.items():\n",
        "    print(f\"{original_label}: {encoded_label}\")"
      ],
      "metadata": {
        "id": "L5NeUWyOEOYU",
        "colab": {
          "base_uri": "https://localhost:8080/"
        },
        "outputId": "4bd1dafa-1ec4-453f-9c9a-a8607a1a8ac3"
      },
      "execution_count": 40,
      "outputs": [
        {
          "output_type": "stream",
          "name": "stdout",
          "text": [
            "     id       entity  label                                               text\n",
            "0  2401  Borderlands      3  im getting on borderlands and i will murder yo...\n",
            "1  2401  Borderlands      3  I am coming to the borders and I will kill you...\n",
            "2  2401  Borderlands      3  im getting on borderlands and i will kill you ...\n",
            "3  2401  Borderlands      3  im coming on borderlands and i will murder you...\n",
            "4  2401  Borderlands      3  im getting on borderlands 2 and i will murder ...\n",
            "Label Encoded Values and their Equivalents:\n",
            "Irrelevant: 0\n",
            "Negative: 1\n",
            "Neutral: 2\n",
            "Positive: 3\n"
          ]
        }
      ]
    },
    {
      "cell_type": "code",
      "source": [
        "df = df[['text', 'label']]\n",
        "df2 = df2[['text', 'label']]\n",
        "# Convert dataframe to dictionary (default: columns as keys)\n",
        "df = df.to_dict(orient='records')\n",
        "df2 = df2.to_dict(orient='records')\n",
        "df[:5]"
      ],
      "metadata": {
        "id": "M8QoiTeFEyRQ",
        "colab": {
          "base_uri": "https://localhost:8080/"
        },
        "outputId": "5af9199e-b72f-4387-b31a-34d7b42fe641"
      },
      "execution_count": 41,
      "outputs": [
        {
          "output_type": "execute_result",
          "data": {
            "text/plain": [
              "[{'text': 'im getting on borderlands and i will murder you all ,', 'label': 3},\n",
              " {'text': 'I am coming to the borders and I will kill you all,', 'label': 3},\n",
              " {'text': 'im getting on borderlands and i will kill you all,', 'label': 3},\n",
              " {'text': 'im coming on borderlands and i will murder you all,', 'label': 3},\n",
              " {'text': 'im getting on borderlands 2 and i will murder you me all,',\n",
              "  'label': 3}]"
            ]
          },
          "metadata": {},
          "execution_count": 41
        }
      ]
    },
    {
      "cell_type": "markdown",
      "source": [
        "Irrelevant: 0\n",
        "Negative: 1\n",
        "Neutral: 2\n",
        "Positive: 3"
      ],
      "metadata": {
        "id": "L3UEM2Qlw-Ya"
      }
    },
    {
      "cell_type": "markdown",
      "source": [
        "Below we create a temporary dataset that will house our data - the counts of each sentiment are displayed when the function is called"
      ],
      "metadata": {
        "id": "4vENy9sKN1u9"
      }
    },
    {
      "cell_type": "code",
      "source": [
        "def create_temp_set(base_data, num_examples=1000000000):\n",
        "    #counts for each class\n",
        "    num_positive = 0\n",
        "    num_negative = 0\n",
        "    num_neutral = 0\n",
        "    num_irrelevant=0\n",
        "    #lists to store data temp\n",
        "    temp_data = []\n",
        "    out_data = []\n",
        "\n",
        "    #iterate through all imdb dataset\n",
        "    for example_num, example in enumerate(base_data):\n",
        "      #add each example to temp_data\n",
        "      temp_data.append(example)\n",
        "    #shuffle temp data\n",
        "    random.shuffle(temp_data)\n",
        "\n",
        "    #iterate through the entire list of data\n",
        "    for example_num, example in enumerate(temp_data):\n",
        "      #limit the new list to a predefined length\n",
        "      if num_examples != -1 and example_num > num_examples:\n",
        "        break\n",
        "      #each example is comprised of a 'text' and a 'label' - add to the count of classes and print it when done\n",
        "      if example['label'] == 1:\n",
        "        num_negative += 1\n",
        "      elif example['label'] == 3:\n",
        "        num_positive += 1\n",
        "      elif example['label'] == 2:\n",
        "        num_neutral += 1\n",
        "      else:\n",
        "        num_irrelevant += 1\n",
        "\n",
        "      out_data.append(example)\n",
        "\n",
        "\n",
        "    print('positive: ', num_positive)\n",
        "    print('negative: ', num_negative)\n",
        "    print('irrelevant: ',num_irrelevant)\n",
        "    print('neutral: ', num_neutral)\n",
        "\n",
        "    #the output is a list of dictionaries\n",
        "    return out_data\n",
        "\n",
        "# There appears to be an issue with the IMDB data. Let's which of the two sets has the full data and pick that one.\n",
        "data_train = create_temp_set(df)\n",
        "data_test = create_temp_set(df2)\n",
        "\n",
        "#consolidate irrelevenat netural and negative / drop anything that is not positive or negative"
      ],
      "metadata": {
        "id": "w49ist1LFTBS",
        "colab": {
          "base_uri": "https://localhost:8080/"
        },
        "outputId": "5d601aaf-0b50-48a7-b220-f5651197f36f"
      },
      "execution_count": 42,
      "outputs": [
        {
          "output_type": "stream",
          "name": "stdout",
          "text": [
            "positive:  20832\n",
            "negative:  22542\n",
            "irrelevant:  12990\n",
            "neutral:  18318\n",
            "positive:  277\n",
            "negative:  266\n",
            "irrelevant:  172\n",
            "neutral:  285\n"
          ]
        }
      ]
    },
    {
      "cell_type": "code",
      "source": [
        "#shorten data for practical use\n",
        "data_train = data_train[:1000]\n",
        "data_test = data_test[:1000]"
      ],
      "metadata": {
        "id": "uZLWd0mZKpbb"
      },
      "execution_count": 44,
      "outputs": []
    },
    {
      "cell_type": "code",
      "source": [
        "print('this is the number of texts in the train set: ', len(data_train))\n",
        "print('this is the number of texts in the test set: ', len(data_test))"
      ],
      "metadata": {
        "id": "ZnPpexAqIEQi",
        "colab": {
          "base_uri": "https://localhost:8080/"
        },
        "outputId": "c4579cf7-b449-429f-87f2-2f256b198e49"
      },
      "execution_count": 45,
      "outputs": [
        {
          "output_type": "stream",
          "name": "stdout",
          "text": [
            "this is the number of texts in the train set:  1000\n",
            "this is the number of texts in the test set:  1000\n"
          ]
        }
      ]
    },
    {
      "cell_type": "code",
      "source": [
        "type(data_train[1]['label'])"
      ],
      "metadata": {
        "id": "tz1tsiO3PHEu",
        "colab": {
          "base_uri": "https://localhost:8080/"
        },
        "outputId": "c898eb21-436b-422c-d7a7-b23254779212"
      },
      "execution_count": 46,
      "outputs": [
        {
          "output_type": "execute_result",
          "data": {
            "text/plain": [
              "int"
            ]
          },
          "metadata": {},
          "execution_count": 46
        }
      ]
    },
    {
      "cell_type": "markdown",
      "source": [
        "Next we instantiate the gpt_2 tokenizer and store it on our device. We also text an example to make sure the tokenizer is working."
      ],
      "metadata": {
        "id": "EuhdBdH3N_id"
      }
    },
    {
      "cell_type": "code",
      "source": [
        "gpt_2_tokenizer = AutoTokenizer.from_pretrained(\"gpt2\")\n",
        "gpt_2_model = GPT2Model.from_pretrained(\"gpt2\").to(device)"
      ],
      "metadata": {
        "id": "xk5Ukg-BBrQq",
        "colab": {
          "base_uri": "https://localhost:8080/"
        },
        "outputId": "9051fdea-30a7-48b3-8056-27f63bc2e361"
      },
      "execution_count": 47,
      "outputs": [
        {
          "output_type": "stream",
          "name": "stderr",
          "text": [
            "/usr/local/lib/python3.10/dist-packages/transformers/tokenization_utils_base.py:1601: FutureWarning: `clean_up_tokenization_spaces` was not set. It will be set to `True` by default. This behavior will be depracted in transformers v4.45, and will be then set to `False` by default. For more details check this issue: https://github.com/huggingface/transformers/issues/31884\n",
            "  warnings.warn(\n"
          ]
        }
      ]
    },
    {
      "cell_type": "code",
      "source": [
        "gpt_2_tokenizer.add_special_tokens({'pad_token': '[PAD]'})\n",
        "tokenized_input_2 = gpt_2_tokenizer(['This is great', 'Marvelously done by you!'],\n",
        "                              return_tensors=\"pt\",\n",
        "                              max_length=7,\n",
        "                              truncation=True,\n",
        "                              padding='max_length').to(device)\n",
        "tokenized_input_2"
      ],
      "metadata": {
        "id": "Q8R8EFCaQA73",
        "colab": {
          "base_uri": "https://localhost:8080/"
        },
        "outputId": "f75961aa-1a6a-4e83-aedb-c34ef5705116"
      },
      "execution_count": 49,
      "outputs": [
        {
          "output_type": "execute_result",
          "data": {
            "text/plain": [
              "{'input_ids': tensor([[ 1212,   318,  1049, 50257, 50257, 50257, 50257],\n",
              "        [38864,  3481,  1760,   416,   345,     0, 50257]], device='cuda:0'), 'attention_mask': tensor([[1, 1, 1, 0, 0, 0, 0],\n",
              "        [1, 1, 1, 1, 1, 1, 0]], device='cuda:0')}"
            ]
          },
          "metadata": {},
          "execution_count": 49
        }
      ]
    },
    {
      "cell_type": "markdown",
      "source": [
        "Next we take a look at the gpt 2 model architecture. Note that it is a transformer with encoding blocks that use multi-headed attention in combination with convolutional and drop out layers. There is also an MLP layer."
      ],
      "metadata": {
        "id": "BOHbkrk6OKST"
      }
    },
    {
      "cell_type": "code",
      "source": [
        "#show architecture\n",
        "\n",
        "pre_train_param_values = []\n",
        "\n",
        "print(f\"Model structure: {gpt_2_model}\\n\\n\")\n",
        "\n",
        "layer_count = 0\n",
        "\n",
        "for param in gpt_2_model.parameters():\n",
        "    param.requires_grad = True   # make sure that the gpt2 model layers can be retrained (try also without...)\n",
        "\n",
        "num_layer_names_shown = 100000\n",
        "\n",
        "\n",
        "for layer_num, (name, param) in enumerate(gpt_2_model.named_parameters()):\n",
        "  pre_train_param_values.append(param.cpu().detach().numpy())\n",
        "\n",
        "pre_train_param_values[15][:15]"
      ],
      "metadata": {
        "id": "4_YK98_kQHeF",
        "colab": {
          "base_uri": "https://localhost:8080/"
        },
        "outputId": "5e16e5d0-747e-477f-dabf-23c47b13f525"
      },
      "execution_count": 50,
      "outputs": [
        {
          "output_type": "stream",
          "name": "stdout",
          "text": [
            "Model structure: GPT2Model(\n",
            "  (wte): Embedding(50257, 768)\n",
            "  (wpe): Embedding(1024, 768)\n",
            "  (drop): Dropout(p=0.1, inplace=False)\n",
            "  (h): ModuleList(\n",
            "    (0-11): 12 x GPT2Block(\n",
            "      (ln_1): LayerNorm((768,), eps=1e-05, elementwise_affine=True)\n",
            "      (attn): GPT2SdpaAttention(\n",
            "        (c_attn): Conv1D()\n",
            "        (c_proj): Conv1D()\n",
            "        (attn_dropout): Dropout(p=0.1, inplace=False)\n",
            "        (resid_dropout): Dropout(p=0.1, inplace=False)\n",
            "      )\n",
            "      (ln_2): LayerNorm((768,), eps=1e-05, elementwise_affine=True)\n",
            "      (mlp): GPT2MLP(\n",
            "        (c_fc): Conv1D()\n",
            "        (c_proj): Conv1D()\n",
            "        (act): NewGELUActivation()\n",
            "        (dropout): Dropout(p=0.1, inplace=False)\n",
            "      )\n",
            "    )\n",
            "  )\n",
            "  (ln_f): LayerNorm((768,), eps=1e-05, elementwise_affine=True)\n",
            ")\n",
            "\n",
            "\n"
          ]
        },
        {
          "output_type": "execute_result",
          "data": {
            "text/plain": [
              "array([-0.00362932, -0.00622698, -0.00362774, -0.0011091 , -0.01039783,\n",
              "       -0.00634792, -0.02703804,  0.04477038, -0.01744087, -0.00305082,\n",
              "       -0.00317421, -0.00448913, -0.00828817, -0.01425266, -0.01139623],\n",
              "      dtype=float32)"
            ]
          },
          "metadata": {},
          "execution_count": 50
        }
      ]
    },
    {
      "cell_type": "markdown",
      "source": [
        "After examining the model we will be using we create the dataset class and instantiate two instances of the class for train and test data."
      ],
      "metadata": {
        "id": "MM3pDx7nOknm"
      }
    },
    {
      "cell_type": "code",
      "source": [
        "# convert to strings\n",
        "for item in data_train:\n",
        "    if 'text' in item:\n",
        "        item['text'] = str(item['text'])\n",
        "\n",
        "for item in data_test:\n",
        "    if 'text' in item:\n",
        "        item['text'] = str(item['text'])\n"
      ],
      "metadata": {
        "id": "jAD_m3ToHE2S"
      },
      "execution_count": 51,
      "outputs": []
    },
    {
      "cell_type": "markdown",
      "source": [
        "Important note on the gpt_2_tokenizer... -> by default the padding token is OOV so running the model to create a hidden state context vector that has encoded all of the prior tokens will not work unless you specify a padding token that is less than 50267 (tokenizer.pad_token = tokenizer.eos_token). Also when creating the dataset make sure to include get_item and len. In the init make sure to take care of truncation and also pad the vector of ids with the padding token that was specified. Lastly, append to the list of data... Include the dictionary that includes the label and the tokenized text as a dictionary. The tokenized text should also be a dictionary that contains two tensors -> input_ids which are the actual tokens (and padding) plus the attention mask which tells the LLM which tokens are real words."
      ],
      "metadata": {
        "id": "MSi-SIHoOyL1"
      }
    },
    {
      "cell_type": "code",
      "source": [
        "class ClassificationData(Dataset):\n",
        "    def __init__(self, base_data, tokenizer, max_len, use_prompt=False):\n",
        "        self.max_len = max_len\n",
        "        self.tokenizer = tokenizer  # assume that padding token has already been added to tokenizer\n",
        "        self.data = []\n",
        "        if self.tokenizer.pad_token is None:\n",
        "          self.tokenizer.add_special_tokens({'pad_token': '[PAD]'})\n",
        "\n",
        "\n",
        "        # really  not ideal having to iterate through the whole set. But ok for this small data volume\n",
        "        for example_num, example in enumerate(base_data):\n",
        "\n",
        "            #tokenize each text value from the dictionary and store the input ids (not the attention mask)\n",
        "\n",
        "            token_encoder = tokenizer(example['text'])['input_ids']\n",
        "\n",
        "            #keep the tokens up to the max length - shorten the review from the last token to the max length index token\n",
        "            truncated_encoding = token_encoder[:self.max_len]\n",
        "\n",
        "            #decode the newly truncated text and store it\n",
        "            truncated_example = tokenizer.decode(truncated_encoding) # reconstruct shortened review\n",
        "\n",
        "            tokenizer.pad_token = tokenizer.eos_token\n",
        "            #tokenize or pad the truncated text\n",
        "            tokenized_example = self.tokenizer(truncated_example,\n",
        "                                               return_tensors=\"pt\",\n",
        "                                               max_length=self.max_len,\n",
        "                                               truncation=True,\n",
        "                                               padding='max_length'\n",
        "                                               ).to(device)\n",
        "            #the data is in a dictionary of dicts - it is split into the label and tokenized texts where the tokenized texts include the token ids and the attention mask vector\n",
        "            self.data.append({'label': (float(example['label'])),\n",
        "                              'tokenized_text':\n",
        "                                  {'input_ids': torch.tensor(torch.squeeze(tokenized_example['input_ids']),\n",
        "                                      device=device),\n",
        "                                   'attention_mask': torch.tensor(torch.squeeze(tokenized_example['attention_mask']),\n",
        "                                      device=device)\n",
        "                                   }\n",
        "                              })\n",
        "\n",
        "    def __len__(self):\n",
        "        return len(self.data)\n",
        "\n",
        "    def __getitem__(self, index):\n",
        "\n",
        "        return {\n",
        "            'input': self.data[index]['tokenized_text'],\n",
        "            'label': torch.tensor(self.data[index]['label'],\n",
        "                                  dtype=torch.float,\n",
        "                                  device=device)\n",
        "        }"
      ],
      "metadata": {
        "id": "Fw2InwHZNfh9"
      },
      "execution_count": 52,
      "outputs": []
    },
    {
      "cell_type": "markdown",
      "source": [
        "After creating the class we do a few additional checks to ensure that the data is formatted and ready for training and evaluation."
      ],
      "metadata": {
        "id": "zqoCU6dnyT1X"
      }
    },
    {
      "cell_type": "code",
      "source": [
        "#type check\n",
        "\n",
        "newlist=[]\n",
        "for x in data_train[:5]:\n",
        "  print(type(x['text']))\n",
        "  #newlist.append(gpt_2_tokenizer(x['text'])['input_ids'])\n",
        "\n",
        "print(newlist)\n"
      ],
      "metadata": {
        "id": "o0nmr8lbF7es",
        "colab": {
          "base_uri": "https://localhost:8080/"
        },
        "outputId": "bf075095-f457-49b2-b82c-ea5181c40657"
      },
      "execution_count": 53,
      "outputs": [
        {
          "output_type": "stream",
          "name": "stdout",
          "text": [
            "<class 'str'>\n",
            "<class 'str'>\n",
            "<class 'str'>\n",
            "<class 'str'>\n",
            "<class 'str'>\n",
            "[]\n"
          ]
        }
      ]
    },
    {
      "cell_type": "code",
      "source": [
        "train_data = ClassificationData(data_train, tokenizer=gpt_2_tokenizer, max_len=200)\n",
        "test_data = ClassificationData(data_test, tokenizer=gpt_2_tokenizer, max_len=200)"
      ],
      "metadata": {
        "id": "IkSoqGRMMsub",
        "colab": {
          "base_uri": "https://localhost:8080/"
        },
        "outputId": "f6ea8ffa-e2f1-41ea-f160-8a03a74f84b5"
      },
      "execution_count": 54,
      "outputs": [
        {
          "output_type": "stream",
          "name": "stderr",
          "text": [
            "<ipython-input-52-d244a42589ba>:34: UserWarning: To copy construct from a tensor, it is recommended to use sourceTensor.clone().detach() or sourceTensor.clone().detach().requires_grad_(True), rather than torch.tensor(sourceTensor).\n",
            "  {'input_ids': torch.tensor(torch.squeeze(tokenized_example['input_ids']),\n",
            "<ipython-input-52-d244a42589ba>:36: UserWarning: To copy construct from a tensor, it is recommended to use sourceTensor.clone().detach() or sourceTensor.clone().detach().requires_grad_(True), rather than torch.tensor(sourceTensor).\n",
            "  'attention_mask': torch.tensor(torch.squeeze(tokenized_example['attention_mask']),\n"
          ]
        }
      ]
    },
    {
      "cell_type": "code",
      "source": [
        "print(type(train_data.data[0]))\n",
        "print(train_data.data[0].keys())\n",
        "print(train_data.data[0]['tokenized_text'])\n",
        "# Extract all labels from the list of dictionaries\n",
        "labels = [item['label'] for item in train_data.data]\n",
        "\n",
        "# Convert the list of labels to a tensor\n",
        "labels_tensor = torch.tensor(labels)\n",
        "\n",
        "# Get unique labels\n",
        "unique_labels = torch.unique(labels_tensor)\n",
        "\n",
        "print(\"Unique labels:\", unique_labels)\n",
        "print(len(train_data))"
      ],
      "metadata": {
        "id": "Bv7Gqvy7NslY",
        "colab": {
          "base_uri": "https://localhost:8080/"
        },
        "outputId": "a62c2601-4a0d-4e8c-c46b-269ec16e8dd0"
      },
      "execution_count": 55,
      "outputs": [
        {
          "output_type": "stream",
          "name": "stdout",
          "text": [
            "<class 'dict'>\n",
            "dict_keys(['label', 'tokenized_text'])\n",
            "{'input_ids': tensor([39152,   318,  1231,   257,  4719,   262,  5290,  5062, 10109,   329,\n",
            "         1290,  1106,   645,   337,   676,   993,    30,  3941, 22553,  3548,\n",
            "         1400, 19478,  6612,  9805,  3548, 50256, 50256, 50256, 50256, 50256,\n",
            "        50256, 50256, 50256, 50256, 50256, 50256, 50256, 50256, 50256, 50256,\n",
            "        50256, 50256, 50256, 50256, 50256, 50256, 50256, 50256, 50256, 50256,\n",
            "        50256, 50256, 50256, 50256, 50256, 50256, 50256, 50256, 50256, 50256,\n",
            "        50256, 50256, 50256, 50256, 50256, 50256, 50256, 50256, 50256, 50256,\n",
            "        50256, 50256, 50256, 50256, 50256, 50256, 50256, 50256, 50256, 50256,\n",
            "        50256, 50256, 50256, 50256, 50256, 50256, 50256, 50256, 50256, 50256,\n",
            "        50256, 50256, 50256, 50256, 50256, 50256, 50256, 50256, 50256, 50256,\n",
            "        50256, 50256, 50256, 50256, 50256, 50256, 50256, 50256, 50256, 50256,\n",
            "        50256, 50256, 50256, 50256, 50256, 50256, 50256, 50256, 50256, 50256,\n",
            "        50256, 50256, 50256, 50256, 50256, 50256, 50256, 50256, 50256, 50256,\n",
            "        50256, 50256, 50256, 50256, 50256, 50256, 50256, 50256, 50256, 50256,\n",
            "        50256, 50256, 50256, 50256, 50256, 50256, 50256, 50256, 50256, 50256,\n",
            "        50256, 50256, 50256, 50256, 50256, 50256, 50256, 50256, 50256, 50256,\n",
            "        50256, 50256, 50256, 50256, 50256, 50256, 50256, 50256, 50256, 50256,\n",
            "        50256, 50256, 50256, 50256, 50256, 50256, 50256, 50256, 50256, 50256,\n",
            "        50256, 50256, 50256, 50256, 50256, 50256, 50256, 50256, 50256, 50256,\n",
            "        50256, 50256, 50256, 50256, 50256, 50256, 50256, 50256, 50256, 50256],\n",
            "       device='cuda:0'), 'attention_mask': tensor([1, 1, 1, 1, 1, 1, 1, 1, 1, 1, 1, 1, 1, 1, 1, 1, 1, 1, 1, 1, 1, 1, 1, 1,\n",
            "        1, 0, 0, 0, 0, 0, 0, 0, 0, 0, 0, 0, 0, 0, 0, 0, 0, 0, 0, 0, 0, 0, 0, 0,\n",
            "        0, 0, 0, 0, 0, 0, 0, 0, 0, 0, 0, 0, 0, 0, 0, 0, 0, 0, 0, 0, 0, 0, 0, 0,\n",
            "        0, 0, 0, 0, 0, 0, 0, 0, 0, 0, 0, 0, 0, 0, 0, 0, 0, 0, 0, 0, 0, 0, 0, 0,\n",
            "        0, 0, 0, 0, 0, 0, 0, 0, 0, 0, 0, 0, 0, 0, 0, 0, 0, 0, 0, 0, 0, 0, 0, 0,\n",
            "        0, 0, 0, 0, 0, 0, 0, 0, 0, 0, 0, 0, 0, 0, 0, 0, 0, 0, 0, 0, 0, 0, 0, 0,\n",
            "        0, 0, 0, 0, 0, 0, 0, 0, 0, 0, 0, 0, 0, 0, 0, 0, 0, 0, 0, 0, 0, 0, 0, 0,\n",
            "        0, 0, 0, 0, 0, 0, 0, 0, 0, 0, 0, 0, 0, 0, 0, 0, 0, 0, 0, 0, 0, 0, 0, 0,\n",
            "        0, 0, 0, 0, 0, 0, 0, 0], device='cuda:0')}\n",
            "Unique labels: tensor([0., 1., 2., 3.])\n",
            "1000\n"
          ]
        }
      ]
    },
    {
      "cell_type": "code",
      "source": [
        "batch_size = 4\n",
        "#split data into batches of 4\n",
        "train_texts = DataLoader(train_data, batch_size=batch_size, shuffle=True)\n",
        "test_texts = DataLoader(test_data, batch_size=batch_size, shuffle=True)"
      ],
      "metadata": {
        "id": "uj-60gPWM3uB"
      },
      "execution_count": 57,
      "outputs": []
    },
    {
      "cell_type": "code",
      "source": [
        "#250 batches of 4 texts per batch\n",
        "len(train_texts)"
      ],
      "metadata": {
        "colab": {
          "base_uri": "https://localhost:8080/"
        },
        "id": "Ti1MP18cz9IR",
        "outputId": "ce934379-851a-4004-813e-f1c12942a323"
      },
      "execution_count": 58,
      "outputs": [
        {
          "output_type": "execute_result",
          "data": {
            "text/plain": [
              "250"
            ]
          },
          "metadata": {},
          "execution_count": 58
        }
      ]
    },
    {
      "cell_type": "markdown",
      "source": [
        "Each element in the data set is a dict of dicts that contains the input and the label."
      ],
      "metadata": {
        "id": "dygiawQuPAYc"
      }
    },
    {
      "cell_type": "code",
      "source": [
        "train_texts.dataset[0]"
      ],
      "metadata": {
        "colab": {
          "base_uri": "https://localhost:8080/"
        },
        "id": "DErO-FsO0h4J",
        "outputId": "6dae85c5-0d31-4e8c-8c48-85f96d1549dd"
      },
      "execution_count": 59,
      "outputs": [
        {
          "output_type": "execute_result",
          "data": {
            "text/plain": [
              "{'input': {'input_ids': tensor([39152,   318,  1231,   257,  4719,   262,  5290,  5062, 10109,   329,\n",
              "           1290,  1106,   645,   337,   676,   993,    30,  3941, 22553,  3548,\n",
              "           1400, 19478,  6612,  9805,  3548, 50256, 50256, 50256, 50256, 50256,\n",
              "          50256, 50256, 50256, 50256, 50256, 50256, 50256, 50256, 50256, 50256,\n",
              "          50256, 50256, 50256, 50256, 50256, 50256, 50256, 50256, 50256, 50256,\n",
              "          50256, 50256, 50256, 50256, 50256, 50256, 50256, 50256, 50256, 50256,\n",
              "          50256, 50256, 50256, 50256, 50256, 50256, 50256, 50256, 50256, 50256,\n",
              "          50256, 50256, 50256, 50256, 50256, 50256, 50256, 50256, 50256, 50256,\n",
              "          50256, 50256, 50256, 50256, 50256, 50256, 50256, 50256, 50256, 50256,\n",
              "          50256, 50256, 50256, 50256, 50256, 50256, 50256, 50256, 50256, 50256,\n",
              "          50256, 50256, 50256, 50256, 50256, 50256, 50256, 50256, 50256, 50256,\n",
              "          50256, 50256, 50256, 50256, 50256, 50256, 50256, 50256, 50256, 50256,\n",
              "          50256, 50256, 50256, 50256, 50256, 50256, 50256, 50256, 50256, 50256,\n",
              "          50256, 50256, 50256, 50256, 50256, 50256, 50256, 50256, 50256, 50256,\n",
              "          50256, 50256, 50256, 50256, 50256, 50256, 50256, 50256, 50256, 50256,\n",
              "          50256, 50256, 50256, 50256, 50256, 50256, 50256, 50256, 50256, 50256,\n",
              "          50256, 50256, 50256, 50256, 50256, 50256, 50256, 50256, 50256, 50256,\n",
              "          50256, 50256, 50256, 50256, 50256, 50256, 50256, 50256, 50256, 50256,\n",
              "          50256, 50256, 50256, 50256, 50256, 50256, 50256, 50256, 50256, 50256,\n",
              "          50256, 50256, 50256, 50256, 50256, 50256, 50256, 50256, 50256, 50256],\n",
              "         device='cuda:0'),\n",
              "  'attention_mask': tensor([1, 1, 1, 1, 1, 1, 1, 1, 1, 1, 1, 1, 1, 1, 1, 1, 1, 1, 1, 1, 1, 1, 1, 1,\n",
              "          1, 0, 0, 0, 0, 0, 0, 0, 0, 0, 0, 0, 0, 0, 0, 0, 0, 0, 0, 0, 0, 0, 0, 0,\n",
              "          0, 0, 0, 0, 0, 0, 0, 0, 0, 0, 0, 0, 0, 0, 0, 0, 0, 0, 0, 0, 0, 0, 0, 0,\n",
              "          0, 0, 0, 0, 0, 0, 0, 0, 0, 0, 0, 0, 0, 0, 0, 0, 0, 0, 0, 0, 0, 0, 0, 0,\n",
              "          0, 0, 0, 0, 0, 0, 0, 0, 0, 0, 0, 0, 0, 0, 0, 0, 0, 0, 0, 0, 0, 0, 0, 0,\n",
              "          0, 0, 0, 0, 0, 0, 0, 0, 0, 0, 0, 0, 0, 0, 0, 0, 0, 0, 0, 0, 0, 0, 0, 0,\n",
              "          0, 0, 0, 0, 0, 0, 0, 0, 0, 0, 0, 0, 0, 0, 0, 0, 0, 0, 0, 0, 0, 0, 0, 0,\n",
              "          0, 0, 0, 0, 0, 0, 0, 0, 0, 0, 0, 0, 0, 0, 0, 0, 0, 0, 0, 0, 0, 0, 0, 0,\n",
              "          0, 0, 0, 0, 0, 0, 0, 0], device='cuda:0')},\n",
              " 'label': tensor(1., device='cuda:0')}"
            ]
          },
          "metadata": {},
          "execution_count": 59
        }
      ]
    },
    {
      "cell_type": "code",
      "source": [
        "type(train_texts.dataset)"
      ],
      "metadata": {
        "colab": {
          "base_uri": "https://localhost:8080/",
          "height": 187
        },
        "id": "5Sk6fXRm01oN",
        "outputId": "070d6209-a484-49ef-a0a7-28acb832e6e2"
      },
      "execution_count": 60,
      "outputs": [
        {
          "output_type": "execute_result",
          "data": {
            "text/plain": [
              "__main__.ClassificationData"
            ],
            "text/html": [
              "<div style=\"max-width:800px; border: 1px solid var(--colab-border-color);\"><style>\n",
              "      pre.function-repr-contents {\n",
              "        overflow-x: auto;\n",
              "        padding: 8px 12px;\n",
              "        max-height: 500px;\n",
              "      }\n",
              "\n",
              "      pre.function-repr-contents.function-repr-contents-collapsed {\n",
              "        cursor: pointer;\n",
              "        max-height: 100px;\n",
              "      }\n",
              "    </style>\n",
              "    <pre style=\"white-space: initial; background:\n",
              "         var(--colab-secondary-surface-color); padding: 8px 12px;\n",
              "         border-bottom: 1px solid var(--colab-border-color);\"><b>ClassificationData</b><br/>def __init__(base_data, tokenizer, max_len, use_prompt=False)</pre><pre class=\"function-repr-contents function-repr-contents-collapsed\" style=\"\"><a class=\"filepath\" style=\"display:none\" href=\"#\"></a>An abstract class representing a :class:`Dataset`.\n",
              "\n",
              "All datasets that represent a map from keys to data samples should subclass\n",
              "it. All subclasses should overwrite :meth:`__getitem__`, supporting fetching a\n",
              "data sample for a given key. Subclasses could also optionally overwrite\n",
              ":meth:`__len__`, which is expected to return the size of the dataset by many\n",
              ":class:`~torch.utils.data.Sampler` implementations and the default options\n",
              "of :class:`~torch.utils.data.DataLoader`. Subclasses could also\n",
              "optionally implement :meth:`__getitems__`, for speedup batched samples\n",
              "loading. This method accepts list of indices of samples of batch and returns\n",
              "list of samples.\n",
              "\n",
              ".. note::\n",
              "  :class:`~torch.utils.data.DataLoader` by default constructs an index\n",
              "  sampler that yields integral indices.  To make it work with a map-style\n",
              "  dataset with non-integral indices/keys, a custom sampler must be provided.</pre></div>"
            ]
          },
          "metadata": {},
          "execution_count": 60
        }
      ]
    },
    {
      "cell_type": "markdown",
      "source": [
        "Above we can see there are a total of 74688 train texts (tweets). Within the dataloader.dataset it is split into 4668 batches of 16 texts each. The formatting is a label paired with an input (input splits into input_ids and attention_mask)."
      ],
      "metadata": {
        "id": "dLJFtN-o0IIY"
      }
    },
    {
      "cell_type": "code",
      "source": [
        "#this is one batch - it consists of an input text and a label\n",
        "next(iter(test_texts)).keys()"
      ],
      "metadata": {
        "colab": {
          "base_uri": "https://localhost:8080/"
        },
        "id": "4njuZfLCwEuW",
        "outputId": "7dbc5a8c-1b51-467c-e688-6833327e9331"
      },
      "execution_count": 62,
      "outputs": [
        {
          "output_type": "execute_result",
          "data": {
            "text/plain": [
              "dict_keys(['input', 'label'])"
            ]
          },
          "metadata": {},
          "execution_count": 62
        }
      ]
    },
    {
      "cell_type": "code",
      "source": [
        "next(iter(test_texts))['input'].keys()\n",
        "\n",
        "#as you can see below the input dictionary contains a dictionary of tensors -> input_ids and their corresponding attention_mask"
      ],
      "metadata": {
        "colab": {
          "base_uri": "https://localhost:8080/"
        },
        "id": "2j8LZ73VIN_9",
        "outputId": "da75092d-ab88-4025-b19a-2cc43b7db26d"
      },
      "execution_count": 63,
      "outputs": [
        {
          "output_type": "execute_result",
          "data": {
            "text/plain": [
              "dict_keys(['input_ids', 'attention_mask'])"
            ]
          },
          "metadata": {},
          "execution_count": 63
        }
      ]
    },
    {
      "cell_type": "code",
      "source": [
        "next(iter(test_texts))['input']['input_ids']"
      ],
      "metadata": {
        "id": "eyNrDSlaTOVH"
      },
      "execution_count": null,
      "outputs": []
    },
    {
      "cell_type": "code",
      "source": [
        "example['label'][0]"
      ],
      "metadata": {
        "colab": {
          "base_uri": "https://localhost:8080/"
        },
        "id": "vLvRsQUpuTAm",
        "outputId": "f73e8d09-8d1c-452c-b411-bd7e68224932"
      },
      "execution_count": 66,
      "outputs": [
        {
          "output_type": "execute_result",
          "data": {
            "text/plain": [
              "tensor(2., device='cuda:0')"
            ]
          },
          "metadata": {},
          "execution_count": 66
        }
      ]
    },
    {
      "cell_type": "code",
      "source": [
        "nn_input_test.shape"
      ],
      "metadata": {
        "colab": {
          "base_uri": "https://localhost:8080/"
        },
        "id": "8kHRM94Uzl6k",
        "outputId": "c9960746-4c8f-452d-9451-30e752871774"
      },
      "execution_count": 70,
      "outputs": [
        {
          "output_type": "execute_result",
          "data": {
            "text/plain": [
              "torch.Size([4, 768])"
            ]
          },
          "metadata": {},
          "execution_count": 70
        }
      ]
    },
    {
      "cell_type": "code",
      "source": [
        "print(test_data['input']['input_ids'].max())"
      ],
      "metadata": {
        "colab": {
          "base_uri": "https://localhost:8080/"
        },
        "id": "IiucdNS7wCJZ",
        "outputId": "1446fc3f-bab9-4c90-ff58-934672465987"
      },
      "execution_count": 71,
      "outputs": [
        {
          "output_type": "stream",
          "name": "stdout",
          "text": [
            "tensor(50256, device='cuda:0')\n"
          ]
        }
      ]
    },
    {
      "cell_type": "code",
      "source": [
        "print(gpt_2_model.config.vocab_size)"
      ],
      "metadata": {
        "colab": {
          "base_uri": "https://localhost:8080/"
        },
        "id": "cVvIKlQVv_cD",
        "outputId": "89e4bddf-f941-4ce3-e65b-a880f4f34d1c"
      },
      "execution_count": 72,
      "outputs": [
        {
          "output_type": "stream",
          "name": "stdout",
          "text": [
            "50257\n"
          ]
        }
      ]
    },
    {
      "cell_type": "markdown",
      "source": [
        "Finally we create the model that first creates a context-rich embedding vector from gpt-2 and then passes through a dropout and a linear layer to get the logit vector."
      ],
      "metadata": {
        "id": "c0Ig0t1HPRi5"
      }
    },
    {
      "cell_type": "code",
      "source": [
        "class MyTextClassificationNetworkClass(torch.nn.Module):\n",
        "    def __init__(self, embedding_model, embedding_model_dim):\n",
        "        super().__init__()\n",
        "        self.lm = embedding_model  # Pre-trained embedding model\n",
        "        self.dropout = torch.nn.Dropout(0.2)\n",
        "        self.linear_2 = torch.nn.Linear(embedding_model_dim, 4)  # 4 classes\n",
        "\n",
        "    def forward(self, x):\n",
        "        # Get embeddings from the pre-trained model\n",
        "        embeddings = self.lm(**x['input'])['last_hidden_state'][:, -1]  # Get the last hidden state for classification\n",
        "        dropout_embeddings = self.dropout(embeddings)\n",
        "\n",
        "        # Pass through linear layer (output size is batch_size x 4)\n",
        "        output = self.linear_2(dropout_embeddings)\n",
        "\n",
        "        # Do NOT apply softmax here; CrossEntropyLoss will handle this\n",
        "        return output  # Return raw logits (size [batch_size, 4])\n",
        "\n",
        "my_text_classification_network = MyTextClassificationNetworkClass(embedding_model=gpt_2_model,\n",
        "                                                                  embedding_model_dim=768)\n",
        "\n",
        "my_text_classification_network.to(device)"
      ],
      "metadata": {
        "colab": {
          "base_uri": "https://localhost:8080/"
        },
        "id": "qaTttbiPIRIp",
        "outputId": "5344ea68-2822-4c70-98aa-2d2681193d96"
      },
      "execution_count": 73,
      "outputs": [
        {
          "output_type": "execute_result",
          "data": {
            "text/plain": [
              "MyTextClassificationNetworkClass(\n",
              "  (lm): GPT2Model(\n",
              "    (wte): Embedding(50257, 768)\n",
              "    (wpe): Embedding(1024, 768)\n",
              "    (drop): Dropout(p=0.1, inplace=False)\n",
              "    (h): ModuleList(\n",
              "      (0-11): 12 x GPT2Block(\n",
              "        (ln_1): LayerNorm((768,), eps=1e-05, elementwise_affine=True)\n",
              "        (attn): GPT2SdpaAttention(\n",
              "          (c_attn): Conv1D()\n",
              "          (c_proj): Conv1D()\n",
              "          (attn_dropout): Dropout(p=0.1, inplace=False)\n",
              "          (resid_dropout): Dropout(p=0.1, inplace=False)\n",
              "        )\n",
              "        (ln_2): LayerNorm((768,), eps=1e-05, elementwise_affine=True)\n",
              "        (mlp): GPT2MLP(\n",
              "          (c_fc): Conv1D()\n",
              "          (c_proj): Conv1D()\n",
              "          (act): NewGELUActivation()\n",
              "          (dropout): Dropout(p=0.1, inplace=False)\n",
              "        )\n",
              "      )\n",
              "    )\n",
              "    (ln_f): LayerNorm((768,), eps=1e-05, elementwise_affine=True)\n",
              "  )\n",
              "  (dropout): Dropout(p=0.2, inplace=False)\n",
              "  (linear_2): Linear(in_features=768, out_features=4, bias=True)\n",
              ")"
            ]
          },
          "metadata": {},
          "execution_count": 73
        }
      ]
    },
    {
      "cell_type": "code",
      "source": [
        "#this is the shape of the output from the network when given one example (one batch of 16 texts)\n",
        "print(my_text_classification_network(example).shape)"
      ],
      "metadata": {
        "colab": {
          "base_uri": "https://localhost:8080/"
        },
        "id": "M6nYUMcXPYex",
        "outputId": "e3e9e35d-b2b9-4b15-bd2b-efe38cbff625"
      },
      "execution_count": 74,
      "outputs": [
        {
          "output_type": "stream",
          "name": "stdout",
          "text": [
            "torch.Size([4, 4])\n"
          ]
        }
      ]
    },
    {
      "cell_type": "code",
      "source": [
        "#This is the logits for the last text that show which class the text should fall under\n",
        "\n",
        "print(my_text_classification_network(example)[-1])"
      ],
      "metadata": {
        "colab": {
          "base_uri": "https://localhost:8080/"
        },
        "id": "hoW1QVQl2LIg",
        "outputId": "431b0452-0e9c-41fc-aa93-b34498ca3f45"
      },
      "execution_count": 75,
      "outputs": [
        {
          "output_type": "stream",
          "name": "stdout",
          "text": [
            "tensor([ 5.8765,  1.7420, -0.9574, -3.3885], device='cuda:0',\n",
            "       grad_fn=<SelectBackward0>)\n"
          ]
        }
      ]
    },
    {
      "cell_type": "code",
      "source": [
        "#here is the text that is decoded - as we can see it is a negative review but it was placed in the positive class\n",
        "#clearly some training and fine-tuning needs to be done\n",
        "gpt_2_tokenizer.decode(example['input']['input_ids'][-1])"
      ],
      "metadata": {
        "colab": {
          "base_uri": "https://localhost:8080/",
          "height": 122
        },
        "id": "VSV2ir2x2gO1",
        "outputId": "4b0906b3-b545-4e3c-8e7d-c9049a095531"
      },
      "execution_count": 76,
      "outputs": [
        {
          "output_type": "execute_result",
          "data": {
            "text/plain": [
              "'So much for Draenor flying. 😂<|endoftext|><|endoftext|><|endoftext|><|endoftext|><|endoftext|><|endoftext|><|endoftext|><|endoftext|><|endoftext|><|endoftext|><|endoftext|><|endoftext|><|endoftext|><|endoftext|><|endoftext|><|endoftext|><|endoftext|><|endoftext|><|endoftext|><|endoftext|><|endoftext|><|endoftext|><|endoftext|><|endoftext|><|endoftext|><|endoftext|><|endoftext|><|endoftext|><|endoftext|><|endoftext|><|endoftext|><|endoftext|><|endoftext|><|endoftext|><|endoftext|><|endoftext|><|endoftext|><|endoftext|><|endoftext|><|endoftext|><|endoftext|><|endoftext|><|endoftext|><|endoftext|><|endoftext|><|endoftext|><|endoftext|><|endoftext|><|endoftext|><|endoftext|><|endoftext|><|endoftext|><|endoftext|><|endoftext|><|endoftext|><|endoftext|><|endoftext|><|endoftext|><|endoftext|><|endoftext|><|endoftext|><|endoftext|><|endoftext|><|endoftext|><|endoftext|><|endoftext|><|endoftext|><|endoftext|><|endoftext|><|endoftext|><|endoftext|><|endoftext|><|endoftext|><|endoftext|><|endoftext|><|endoftext|><|endoftext|><|endoftext|><|endoftext|><|endoftext|><|endoftext|><|endoftext|><|endoftext|><|endoftext|><|endoftext|><|endoftext|><|endoftext|><|endoftext|><|endoftext|><|endoftext|><|endoftext|><|endoftext|><|endoftext|><|endoftext|><|endoftext|><|endoftext|><|endoftext|><|endoftext|><|endoftext|><|endoftext|><|endoftext|><|endoftext|><|endoftext|><|endoftext|><|endoftext|><|endoftext|><|endoftext|><|endoftext|><|endoftext|><|endoftext|><|endoftext|><|endoftext|><|endoftext|><|endoftext|><|endoftext|><|endoftext|><|endoftext|><|endoftext|><|endoftext|><|endoftext|><|endoftext|><|endoftext|><|endoftext|><|endoftext|><|endoftext|><|endoftext|><|endoftext|><|endoftext|><|endoftext|><|endoftext|><|endoftext|><|endoftext|><|endoftext|><|endoftext|><|endoftext|><|endoftext|><|endoftext|><|endoftext|><|endoftext|><|endoftext|><|endoftext|><|endoftext|><|endoftext|><|endoftext|><|endoftext|><|endoftext|><|endoftext|><|endoftext|><|endoftext|><|endoftext|><|endoftext|><|endoftext|><|endoftext|><|endoftext|><|endoftext|><|endoftext|><|endoftext|><|endoftext|><|endoftext|><|endoftext|><|endoftext|><|endoftext|><|endoftext|><|endoftext|><|endoftext|><|endoftext|><|endoftext|><|endoftext|><|endoftext|><|endoftext|><|endoftext|><|endoftext|><|endoftext|><|endoftext|><|endoftext|><|endoftext|><|endoftext|><|endoftext|><|endoftext|><|endoftext|><|endoftext|><|endoftext|><|endoftext|><|endoftext|><|endoftext|><|endoftext|><|endoftext|><|endoftext|><|endoftext|><|endoftext|>'"
            ],
            "application/vnd.google.colaboratory.intrinsic+json": {
              "type": "string"
            }
          },
          "metadata": {},
          "execution_count": 76
        }
      ]
    },
    {
      "cell_type": "markdown",
      "source": [
        "Above we can see the neural network generates 4 vectors (batchsize=4) of length 4. The 4 values are the logits for the last token in each text. The logits indicate a score for each category with the highest score being the sentiment category that the text belongs to. In the example above we look at the last text. It is placed in the wrong category by default since the network is untrained. Still, good to know it worked! Next we will bring in a loss function and optimizer to fine-tune both the GPT-2 model and also our linear layer. The loss function we will be using is cross-entropy. Cross-Entropy is the average log of probability the model predicts for the actual class. So for example if the text is supposed to be in class 4 (100% of the time in actuality) the loss for that one text is the log of the probability of the text being class 4 according to the models prediction. The loss is used by the Adam optimizer that calculates the gradient and multiplies it by the learning rate (plus some additional calculations like momentum that keep the optimizer from getting stuck at a local minima)."
      ],
      "metadata": {
        "id": "-3xuHl5B1p_w"
      }
    },
    {
      "cell_type": "code",
      "source": [
        "loss_fn = torch.nn.CrossEntropyLoss()\n",
        "adam_optimizer = torch.optim.Adam(my_text_classification_network.parameters(), lr=0.0001)"
      ],
      "metadata": {
        "id": "3SDToBI6Id5C"
      },
      "execution_count": 78,
      "outputs": []
    },
    {
      "cell_type": "code",
      "source": [
        "sample_input = example\n",
        "sample_labels = example['label'].long()\n"
      ],
      "metadata": {
        "id": "WD8cvU7LPsMB"
      },
      "execution_count": 79,
      "outputs": []
    },
    {
      "cell_type": "code",
      "source": [
        "sample_output = my_text_classification_network(sample_input)#.to(device)\n",
        "\n",
        "loss_fn(sample_output, sample_labels)"
      ],
      "metadata": {
        "colab": {
          "base_uri": "https://localhost:8080/"
        },
        "id": "4vkj8f25Pvd7",
        "outputId": "deff97d1-f83c-4966-81bc-962c80f3cd82"
      },
      "execution_count": 81,
      "outputs": [
        {
          "output_type": "execute_result",
          "data": {
            "text/plain": [
              "tensor(2.9486, device='cuda:0', grad_fn=<NllLossBackward0>)"
            ]
          },
          "metadata": {},
          "execution_count": 81
        }
      ]
    },
    {
      "cell_type": "markdown",
      "source": [
        "Above we test one batch - we get the sample output which are the logits for each of the batch and compare them to the labels of the batch which are converted to LongTensor. The loss is basically the batch average negative log probability of the correct class. A high probability for the correct class results in lower loss. You could say that the final value is a measure of how surprised the model is by the true labels given the predicted probabilities."
      ],
      "metadata": {
        "id": "O8MeW3ub6H43"
      }
    },
    {
      "cell_type": "code",
      "source": [
        "def train_loop(dataloader, model, loss_fn, optimizer, reporting_interval=25, steps=None):\n",
        "    # size = len(dataloader.dataset)\n",
        "    # Set the model to training mode - important for batch normalization and dropout layers\n",
        "    # Unnecessary in this situation but added for best practices\n",
        "    epoch_loss = 0\n",
        "    model.train()\n",
        "\n",
        "    for batch, example in enumerate(dataloader):\n",
        "\n",
        "      X =  example\n",
        "      y = example['label'].long()\n",
        "\n",
        "      if steps is not None:\n",
        "        if batch > steps:\n",
        "          break\n",
        "\n",
        "      optimizer.zero_grad()     # the gradients need to be zeroed out after the gradients are applied by the optimizer\n",
        "\n",
        "      # Compute prediction and loss\n",
        "\n",
        "      pred = model(X)\n",
        "\n",
        "      loss = loss_fn(pred, y)\n",
        "\n",
        "      # Backpropagation\n",
        "      loss.backward()\n",
        "      optimizer.step()\n",
        "\n",
        "      epoch_loss += loss.item()\n",
        "      optimizer.zero_grad()\n",
        "\n",
        "      if int(batch + 1) % reporting_interval == 0:\n",
        "        print('\\tFinished batches: ', str(batch + 1))\n",
        "        print('\\tCurrent average loss: ', epoch_loss/batch)\n",
        "\n",
        "    print(f\"Training Results: \\n  Avg train loss: {epoch_loss/batch:>8f} \\n\")\n",
        "\n",
        "\n",
        "def test_loop(dataloader, model, loss_fn, reporting_interval=100, steps=None):\n",
        "    # Set the model to evaluation mode - important for batch normalization and dropout layers\n",
        "    # Unnecessary in this situation but added for best practices\n",
        "    model.eval()\n",
        "    test_loss, correct, total = 0, 0, 0\n",
        "\n",
        "    # Evaluating the model with torch.no_grad() ensures that no gradients are computed during test mode\n",
        "    # also serves to reduce unnecessary gradient computations and memory usage for tensors with requires_grad=True\n",
        "    with torch.no_grad():\n",
        "        for batch, example in enumerate(dataloader):\n",
        "\n",
        "          X =  example\n",
        "          y = example['label'].long()\n",
        "\n",
        "          if steps is not None:\n",
        "            if int(batch) > steps:\n",
        "              break\n",
        "\n",
        "          pred = model(X)\n",
        "          test_loss += loss_fn(pred, y).item()\n",
        "\n",
        "    test_loss /= batch\n",
        "    print(f\"Avg test loss: {test_loss:>8f} \\n\")"
      ],
      "metadata": {
        "id": "8MQQWOWSIlCF"
      },
      "execution_count": 88,
      "outputs": []
    },
    {
      "cell_type": "code",
      "source": [
        "#my_text_classification_network = my_text_classification_network.to(device)\n",
        "\n",
        "epochs = 1\n",
        "for t in range(epochs):\n",
        "    print(f\"Epoch {t+1}\\n-------------------------------\")\n",
        "    train_loop(train_texts, my_text_classification_network, loss_fn, adam_optimizer, steps=500)\n",
        "    test_loop(test_texts, my_text_classification_network, loss_fn, steps=125) # no optimizer use here!\n",
        "print(\"Done!\")"
      ],
      "metadata": {
        "colab": {
          "base_uri": "https://localhost:8080/"
        },
        "id": "AqiyzMXbIsWM",
        "outputId": "ca3a148f-5aa4-45f3-d61a-73413c7bed3e"
      },
      "execution_count": 89,
      "outputs": [
        {
          "output_type": "stream",
          "name": "stdout",
          "text": [
            "Epoch 1\n",
            "-------------------------------\n",
            "\tFinished batches:  25\n",
            "\tCurrent average loss:  1.4268541286389034\n",
            "\tFinished batches:  50\n",
            "\tCurrent average loss:  1.3905525450803795\n",
            "\tFinished batches:  75\n",
            "\tCurrent average loss:  1.3846265029262852\n",
            "\tFinished batches:  100\n",
            "\tCurrent average loss:  1.363506763872474\n",
            "\tFinished batches:  125\n",
            "\tCurrent average loss:  1.3518307040775976\n",
            "\tFinished batches:  150\n",
            "\tCurrent average loss:  1.3390565934597245\n",
            "\tFinished batches:  175\n",
            "\tCurrent average loss:  1.3391724944799797\n",
            "\tFinished batches:  200\n",
            "\tCurrent average loss:  1.3212434221152685\n",
            "\tFinished batches:  225\n",
            "\tCurrent average loss:  1.322208168517266\n",
            "\tFinished batches:  250\n",
            "\tCurrent average loss:  1.3259262500039066\n",
            "Training Results: \n",
            "  Avg train loss: 1.325926 \n",
            "\n",
            "Avg test loss: 1.241883 \n",
            "\n",
            "Done!\n"
          ]
        }
      ]
    },
    {
      "cell_type": "code",
      "source": [
        "my_text_classification_network.eval()\n",
        "sample_output = my_text_classification_network(sample_input)#.to(device)\n",
        "\n",
        "loss_fn(sample_output, sample_labels)"
      ],
      "metadata": {
        "colab": {
          "base_uri": "https://localhost:8080/"
        },
        "id": "aH5a47ofBtLh",
        "outputId": "807d1ed3-1fad-455c-c10f-c214a6458023"
      },
      "execution_count": 90,
      "outputs": [
        {
          "output_type": "execute_result",
          "data": {
            "text/plain": [
              "tensor(1.3196, device='cuda:0', grad_fn=<NllLossBackward0>)"
            ]
          },
          "metadata": {},
          "execution_count": 90
        }
      ]
    },
    {
      "cell_type": "markdown",
      "source": [
        "Lastly we create a confusion matrix that shows us the predictions and their true labels. Notably, neutral sentiment texts are confused with positive and negative texts pretty often. Due to the limited training data size (for practicality) this is expected."
      ],
      "metadata": {
        "id": "ETeBQ800PjO_"
      }
    },
    {
      "cell_type": "code",
      "source": [
        "all_preds = []\n",
        "all_labels = []\n",
        "\n",
        "with torch.no_grad():\n",
        "    for batch in train_texts:\n",
        "        X = batch  # input data\n",
        "        y = batch['label'].long()  # true labels\n",
        "\n",
        "        pred = my_text_classification_network(X)  # predictions\n",
        "        predicted_classes = pred.argmax(dim=1)  # get predicted class from logits\n",
        "\n",
        "        all_preds.extend(predicted_classes.cpu().numpy())  # store predictions\n",
        "        all_labels.extend(y.cpu().numpy())  # store true labels"
      ],
      "metadata": {
        "id": "nKFUy_ARK5GW"
      },
      "execution_count": 91,
      "outputs": []
    },
    {
      "cell_type": "code",
      "source": [
        "from sklearn.metrics import confusion_matrix, ConfusionMatrixDisplay\n",
        "import matplotlib.pyplot as plt\n",
        "\n",
        "# Generate confusion matrix\n",
        "cm = confusion_matrix(all_labels, all_preds, labels=[0, 1, 2, 3])\n",
        "\n",
        "# Plot confusion matrix\n",
        "disp = ConfusionMatrixDisplay(confusion_matrix=cm, display_labels=[0, 1, 2, 3])\n",
        "disp.plot(cmap=plt.cm.Blues)\n",
        "plt.show()"
      ],
      "metadata": {
        "id": "eaT-JoUhQK7E",
        "colab": {
          "base_uri": "https://localhost:8080/",
          "height": 455
        },
        "outputId": "ef2120f7-ef01-4aca-84cd-ca27740fe406"
      },
      "execution_count": 92,
      "outputs": [
        {
          "output_type": "display_data",
          "data": {
            "text/plain": [
              "<Figure size 640x480 with 2 Axes>"
            ],
            "image/png": "[encoded data removed]"
          },
          "metadata": {}
        }
      ]
    },
    {
      "cell_type": "markdown",
      "source": [
        "Label Encoded Values and their Equivalents:\n",
        "\n",
        "\n",
        "*   Irrelevant: 0\n",
        "*   Negative: 1\n",
        "*   Neutral: 2\n",
        "*   Positive: 3\n",
        "\n",
        "\n",
        "\n",
        "\n"
      ],
      "metadata": {
        "id": "1CWOBxL7MLaT"
      }
    },
    {
      "cell_type": "code",
      "source": [],
      "metadata": {
        "id": "t2zC2Q8nVEVZ"
      },
      "execution_count": null,
      "outputs": []
    }
  ]
}